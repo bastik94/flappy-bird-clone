{
 "cells": [
  {
   "cell_type": "code",
   "execution_count": 1,
   "id": "db9ddbd4",
   "metadata": {},
   "outputs": [],
   "source": [
    "#include <algoviz/SVG.hpp>\n",
    "#include <iostream>\n",
    "#include <stdlib.h>\n",
    "#include \"Obstacle.hpp\"\n",
    "#include \"Bird.hpp\""
   ]
  },
  {
   "cell_type": "code",
   "execution_count": null,
   "id": "5cd4f2e6",
   "metadata": {},
   "outputs": [],
   "source": [
    "AlgoViz::clear();\n",
    "\n",
    "// Declare global variables, setup drawing\n",
    "\n",
    "SVG drawing = SVG(1000, 1000, \"Flappy Bird\");\n",
    "Image bg = Image(\"img/BG.svg\", 500, 500, 1000, 1000, &drawing);\n",
    "Bird bird = Bird(drawing);\n",
    "string taste = \"\";\n",
    "\n",
    "bool collision = false;\n",
    "int score = 0;\n",
    "\n",
    "// Wait for Enter Key to begin game\n",
    "\n",
    "drawing.setStatusMsg(\"Press enter to start game\");\n",
    "\n",
    "while (taste != \"Enter\") {\n",
    "    taste = drawing.waitForKey();\n",
    "}\n",
    "\n",
    "drawing.setStatusMsg(\"\");\n",
    "\n",
    "// Main Loop\n",
    "\n",
    "while (!collision) {\n",
    "    \n",
    "    \n",
    "    \n",
    "    \n",
    "    taste = drawing.lastKey();\n",
    "    \n",
    "    if (taste == \"ArrowUp\") {\n",
    "        bird.moveUp();\n",
    "        taste = \"\";\n",
    "    } else {\n",
    "        bird.moveDown();\n",
    "    }\n",
    "    \n",
    "    // Check for collision\n",
    "    \n",
    "    if (bird.getY() + 40 > 1000 || bird.getY() - 40 < 0) {\n",
    "        collision = true;\n",
    "    }\n",
    "    \n",
    "   /* if (bird.getY() + 40 == rect.getY() + rec.getLength() || bird.getY() -40 == rec.getY() + rec.length) {\n",
    "        collision = true;\n",
    "    } */\n",
    "    \n",
    "    \n",
    "    \n",
    "    // std::cout << \"test\" << endl;\n",
    "    \n",
    "    \n",
    "    // Small wait timer for smoother animations\n",
    "    AlgoViz::sleep(5);\n",
    "}\n",
    "\n",
    "drawing.setStatusMsg(\"Game over!\");\n",
    "\n"
   ]
  },
  {
   "cell_type": "code",
   "execution_count": null,
   "id": "01613468",
   "metadata": {},
   "outputs": [],
   "source": []
  },
  {
   "cell_type": "code",
   "execution_count": null,
   "id": "d5518d73",
   "metadata": {},
   "outputs": [],
   "source": []
  }
 ],
 "metadata": {
  "kernelspec": {
   "display_name": "C++14",
   "language": "C++14",
   "name": "xcpp14"
  },
  "language_info": {
   "codemirror_mode": "text/x-c++src",
   "file_extension": ".cpp",
   "mimetype": "text/x-c++src",
   "name": "c++",
   "version": "14"
  }
 },
 "nbformat": 4,
 "nbformat_minor": 5
}
