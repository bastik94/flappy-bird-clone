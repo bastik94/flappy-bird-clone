{
 "cells": [
  {
   "cell_type": "code",
   "execution_count": 3,
   "id": "0f009d39",
   "metadata": {},
   "outputs": [
    {
     "name": "stderr",
     "output_type": "stream",
     "text": [
      "In file included from input_line_9:3:\n",
      "\u001b[1m./Obstacle.hpp:4:7: \u001b[0m\u001b[0;1;31merror: \u001b[0m\u001b[1mredefinition of 'Obstacle'\u001b[0m\n",
      "class Obstacle {\n",
      "\u001b[0;1;32m      ^\n",
      "\u001b[0m\u001b[1minput_line_7:3:10: \u001b[0m\u001b[0;1;30mnote: \u001b[0m'./Obstacle.hpp' included multiple times, additional include site here\u001b[0m\n",
      "#include \"Obstacle.hpp\"\n",
      "\u001b[0;1;32m         ^\n",
      "\u001b[0m\u001b[1minput_line_9:3:10: \u001b[0m\u001b[0;1;30mnote: \u001b[0m'./Obstacle.hpp' included multiple times, additional include site here\u001b[0m\n",
      "#include \"Obstacle.hpp\"\n",
      "\u001b[0;1;32m         ^\n",
      "\u001b[0m\u001b[1m./Obstacle.hpp:4:7: \u001b[0m\u001b[0;1;30mnote: \u001b[0munguarded header; consider using #ifdef guards or #pragma once\u001b[0m\n",
      "class Obstacle {\n",
      "\u001b[0;1;32m      ^\n",
      "\u001b[0mIn file included from input_line_9:4:\n",
      "\u001b[1m./Bird.hpp:4:7: \u001b[0m\u001b[0;1;31merror: \u001b[0m\u001b[1mredefinition of 'Bird'\u001b[0m\n",
      "class Bird {\n",
      "\u001b[0;1;32m      ^\n",
      "\u001b[0m\u001b[1minput_line_7:4:10: \u001b[0m\u001b[0;1;30mnote: \u001b[0m'./Bird.hpp' included multiple times, additional include site here\u001b[0m\n",
      "#include \"Bird.hpp\"\n",
      "\u001b[0;1;32m         ^\n",
      "\u001b[0m\u001b[1minput_line_9:4:10: \u001b[0m\u001b[0;1;30mnote: \u001b[0m'./Bird.hpp' included multiple times, additional include site here\u001b[0m\n",
      "#include \"Bird.hpp\"\n",
      "\u001b[0;1;32m         ^\n",
      "\u001b[0m\u001b[1m./Bird.hpp:4:7: \u001b[0m\u001b[0;1;30mnote: \u001b[0munguarded header; consider using #ifdef guards or #pragma once\u001b[0m\n",
      "class Bird {\n",
      "\u001b[0;1;32m      ^\n",
      "\u001b[0m"
     ]
    },
    {
     "ename": "Interpreter Error",
     "evalue": "",
     "output_type": "error",
     "traceback": [
      "Interpreter Error: "
     ]
    }
   ],
   "source": [
    "#include <algoviz/SVG.hpp>\n",
    "#include <stdlib.h>\n",
    "#include \"Obstacle.hpp\"\n",
    "#include \"Bird.hpp\""
   ]
  },
  {
   "cell_type": "code",
   "execution_count": 5,
   "id": "a85ea05d",
   "metadata": {},
   "outputs": [],
   "source": [
    "AlgoViz::clear();\n",
    "SVG drawing = SVG(1000, 1000, \"Flappy Bird\");\n",
    "Bird bird = Bird(drawing);\n",
    "bool collision = false;\n",
    "int score = 0;"
   ]
  },
  {
   "cell_type": "code",
   "execution_count": null,
   "id": "a4724569",
   "metadata": {},
   "outputs": [],
   "source": [
    "while (!collision) {\n",
    "   idk ? bird.moveUp : bird.moveDown;\n",
    "   obstacle.move();\n",
    "   isCollision = calculateCollision(bird.getX(), bird.getY(), obstacle.getX(), obstacle.getYtop(), obstacle.getYbottom());\n",
    "   score += 1;\n",
    "}\n",
    "\n",
    "bird.hide();\n",
    "obstacle.hide();\n",
    "scoreTable.show();"
   ]
  },
  {
   "cell_type": "code",
   "execution_count": null,
   "id": "8d2e1039",
   "metadata": {},
   "outputs": [],
   "source": [
    "int birdRadius = 20; // change appropriately\n",
    "bool calculateCollision(int birdX, int birdY, obstacleX, obstacleYtop, obstacleYbottom) {\n",
    "    if ((birdX - obstacleX) < birdRadius) return true;\n",
    "    if ((birdY - obstacleYtop) < birdRadius) return true;\n",
    "    if ((obstacleYbottom - birdY) < birdRadius) return true;\n",
    "    return false;\n",
    "}"
   ]
  }
 ],
 "metadata": {
  "kernelspec": {
   "display_name": "C++14",
   "language": "C++14",
   "name": "xcpp14"
  },
  "language_info": {
   "codemirror_mode": "text/x-c++src",
   "file_extension": ".cpp",
   "mimetype": "text/x-c++src",
   "name": "c++",
   "version": "14"
  }
 },
 "nbformat": 4,
 "nbformat_minor": 5
}
