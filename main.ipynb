{
 "cells": [
  {
   "cell_type": "code",
   "execution_count": 1,
   "id": "0f009d39",
   "metadata": {},
   "outputs": [],
   "source": [
    "#include <algoviz/SVG.hpp>\n",
    "#include <stdlib.h>\n",
    "#include \"Obstacle.hpp\"\n",
    "#include \"Bird.hpp\""
   ]
  },
  {
   "cell_type": "code",
   "execution_count": 2,
   "id": "a85ea05d",
   "metadata": {},
   "outputs": [],
   "source": [
    "AlgoViz::clear();\n",
    "SVG drawing = SVG(1000, 1000, \"Flappy Bird\");\n",
    "Bird bird = Bird(drawing);\n",
    "bool collision = false;\n",
    "int score = 0;"
   ]
  },
  {
   "cell_type": "code",
   "execution_count": 3,
   "id": "a4724569",
   "metadata": {},
   "outputs": [
    {
     "name": "stderr",
     "output_type": "stream",
     "text": [
      "\u001b[1minput_line_9:3:4: \u001b[0m\u001b[0;1;31merror: \u001b[0m\u001b[1muse of undeclared identifier 'idk'\u001b[0m\n",
      "   idk ? bird.moveUp : bird.moveDown;\n",
      "\u001b[0;1;32m   ^\n",
      "\u001b[0m\u001b[1minput_line_9:4:4: \u001b[0m\u001b[0;1;31merror: \u001b[0m\u001b[1muse of undeclared identifier 'obstacle'\u001b[0m\n",
      "   obstacle.move();\n",
      "\u001b[0;1;32m   ^\n",
      "\u001b[0m\u001b[1minput_line_9:5:4: \u001b[0m\u001b[0;1;31merror: \u001b[0m\u001b[1muse of undeclared identifier 'isCollision'; did you mean 'collision'?\u001b[0m\n",
      "   isCollision = calculateCollision(bird.getX(), bird.getY(), obstacle.getX(), obstacle.getYtop(), obstacle.getY...\n",
      "\u001b[0;1;32m   ^~~~~~~~~~~\n",
      "\u001b[0m\u001b[0;32m   collision\n",
      "\u001b[0m\u001b[1minput_line_8:5:6: \u001b[0m\u001b[0;1;30mnote: \u001b[0m'collision' declared here\u001b[0m\n",
      "bool collision = false;\n",
      "\u001b[0;1;32m     ^\n",
      "\u001b[0m\u001b[1minput_line_9:5:63: \u001b[0m\u001b[0;1;31merror: \u001b[0m\u001b[1muse of undeclared identifier 'obstacle'\u001b[0m\n",
      "   isCollision = calculateCollision(bird.getX(), bird.getY(), obstacle.getX(), obstacle.getYtop(), obstacle.getY...\n",
      "\u001b[0;1;32m                                                              ^\n",
      "\u001b[0m\u001b[1minput_line_9:5:80: \u001b[0m\u001b[0;1;31merror: \u001b[0m\u001b[1muse of undeclared identifier 'obstacle'\u001b[0m\n",
      "   isCollision = calculateCollision(bird.getX(), bird.getY(), obstacle.getX(), obstacle.getYtop(), obstacle.getY...\n",
      "\u001b[0;1;32m                                                                               ^\n",
      "\u001b[0m\u001b[1minput_line_9:5:100: \u001b[0m\u001b[0;1;31merror: \u001b[0m\u001b[1muse of undeclared identifier 'obstacle'\u001b[0m\n",
      "   isCollision = calculateCollision(bird.getX(), bird.getY(), obstacle.getX(), obstacle.getYtop(), obstacle.getY...\n",
      "\u001b[0;1;32m                                                                                                   ^\n",
      "\u001b[0m\u001b[1minput_line_9:8:6: \u001b[0m\u001b[0;1;31merror: \u001b[0m\u001b[1m'hide' is a private member of 'Bird'\u001b[0m\n",
      "bird.hide();\n",
      "\u001b[0;1;32m     ^\n",
      "\u001b[0m\u001b[1m./Bird.hpp:20:10: \u001b[0m\u001b[0;1;30mnote: \u001b[0mdeclared private here\u001b[0m\n",
      "    void hide() {\n",
      "\u001b[0;1;32m         ^\n",
      "\u001b[0m\u001b[1minput_line_9:9:1: \u001b[0m\u001b[0;1;31merror: \u001b[0m\u001b[1muse of undeclared identifier 'obstacle'\u001b[0m\n",
      "obstacle.hide();\n",
      "\u001b[0;1;32m^\n",
      "\u001b[0m\u001b[1minput_line_9:10:1: \u001b[0m\u001b[0;1;31merror: \u001b[0m\u001b[1muse of undeclared identifier 'scoreTable'\u001b[0m\n",
      "scoreTable.show();\n",
      "\u001b[0;1;32m^\n",
      "\u001b[0m"
     ]
    },
    {
     "ename": "Interpreter Error",
     "evalue": "",
     "output_type": "error",
     "traceback": [
      "Interpreter Error: "
     ]
    }
   ],
   "source": [
    "while (!collision) {\n",
    "   idk ? bird.moveUp : bird.moveDown;\n",
    "   obstacle.move();\n",
    "   isCollision = calculateCollision(bird.getX(), bird.getY(), obstacle.getX(), obstacle.getYtop(), obstacle.getYbottom());\n",
    "   score += 1;\n",
    "}\n",
    "\n",
    "bird.hide();\n",
    "obstacle.hide();\n",
    "scoreTable.show();"
   ]
  },
  {
   "cell_type": "code",
   "execution_count": null,
   "id": "8d2e1039",
   "metadata": {},
   "outputs": [],
   "source": [
    "int birdRadius = 20; // change appropriately\n",
    "bool calculateCollision(int birdX, int birdY, obstacleX, obstacleYtop, obstacleYbottom) {\n",
    "    if ((birdX - obstacleX) < birdRadius) return true;\n",
    "    if ((birdY - obstacleYtop) < birdRadius) return true;\n",
    "    if ((obstacleYbottom - birdY) < birdRadius) return true;\n",
    "    return false;\n",
    "}"
   ]
  },
  {
   "cell_type": "code",
   "execution_count": 6,
   "id": "ce666449",
   "metadata": {},
   "outputs": [],
   "source": [
    "?SVG"
   ]
  },
  {
   "cell_type": "code",
   "execution_count": null,
   "id": "b11f360c",
   "metadata": {},
   "outputs": [],
   "source": []
  }
 ],
 "metadata": {
  "kernelspec": {
   "display_name": "C++14",
   "language": "C++14",
   "name": "xcpp14"
  },
  "language_info": {
   "codemirror_mode": "text/x-c++src",
   "file_extension": ".cpp",
   "mimetype": "text/x-c++src",
   "name": "c++",
   "version": "14"
  }
 },
 "nbformat": 4,
 "nbformat_minor": 5
}
