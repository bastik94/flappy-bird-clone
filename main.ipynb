{
 "cells": [
  {
   "cell_type": "code",
   "execution_count": 1,
   "id": "8fd970d6",
   "metadata": {},
   "outputs": [],
   "source": [
    "#include <algoviz/SVG.hpp>\n",
    "#include <iostream>\n",
    "#include <stdlib.h>\n",
    "#include \"Obstacle.hpp\"\n",
    "#include \"Bird.hpp\"\n",
    "\n",
    "void runGame(SVG &drawing, Bird &bird) {\n",
    "   \n",
    "    string key;\n",
    "    int score = 0;\n",
    "    bool collision = false;\n",
    "    \n",
    "    // Wait for Enter Key to begin game\n",
    "    while (key != \"Enter\") {\n",
    "        key = drawing.waitForKey();\n",
    "    }\n",
    "    \n",
    "    drawing.setStatusMsg(\"\");\n",
    "    bird.center();\n",
    "    bird.setNormalSize();\n",
    "    // score.hide();\n",
    "    \n",
    "    // Main Loop\n",
    "    while (!collision) {\n",
    "\n",
    "       key = drawing.lastKey();\n",
    "\n",
    "        if (key == \"ArrowUp\") {\n",
    "            bird.moveUp();\n",
    "            key = \"\";\n",
    "        } else {\n",
    "            bird.moveDown();\n",
    "        }\n",
    "\n",
    "        // Check for collision\n",
    "\n",
    "        if (bird.getY() + 40 > 1000 || bird.getY() - 40 < 0) {\n",
    "            collision = true;\n",
    "        }\n",
    "        \n",
    "        // Check for avoided collision\n",
    "        // collisionAvoided ? score += 1'\n",
    "\n",
    "        // Small wait timer for smoother animations\n",
    "        AlgoViz::sleep(5);\n",
    "    }\n",
    "    \n",
    "    drawing.setStatusMsg(\"Game over! Hit enter to play once again\");\n",
    "    // scoreTable.show(score);\n",
    "    \n",
    "    \n",
    "    runGame(drawing, bird);\n",
    "}"
   ]
  },
  {
   "cell_type": "code",
   "execution_count": null,
   "id": "5cd4f2e6",
   "metadata": {},
   "outputs": [],
   "source": [
    "AlgoViz::clear();\n",
    "\n",
    "// Declare global variables, setup drawing\n",
    "SVG drawing = SVG(960, 1000, \"Flappy Bee\");\n",
    "Image bg = Image(\"img/BG.svg\", 480, 500, 1000, 1000, &drawing);\n",
    "drawing.setStatusMsg(\"Press enter to start game\");\n",
    "Bird bird = Bird(drawing);\n",
    "// ScoreTable scoretable = ScoreTable(drawing);\n",
    "\n",
    "runGame(drawing, bird);\n",
    "\n"
   ]
  },
  {
   "cell_type": "code",
   "execution_count": null,
   "id": "01613468",
   "metadata": {},
   "outputs": [],
   "source": [
    "// bool calculateCollision(int birdX, int birdY, obstacleX, obstacleYtop, obstacleYbottom) {\n",
    "//     if ((birdX - obstacleX) < birdRadius) return true;\n",
    "//     if ((birdY - obstacleYtop) < birdRadius) return true;\n",
    "//     if ((obstacleYbottom - birdY) < birdRadius) return true;\n",
    "//     return false;\n",
    "// }\n",
    "\n",
    "// isCollision = calculateCollision(bird.getX(), bird.getY(), obstacle.getX(), obstacle.getYtop(), obstacle.getYbottom());"
   ]
  },
  {
   "cell_type": "code",
   "execution_count": null,
   "id": "d5518d73",
   "metadata": {},
   "outputs": [],
   "source": []
  }
 ],
 "metadata": {
  "kernelspec": {
   "display_name": "C++14",
   "language": "C++14",
   "name": "xcpp14"
  },
  "language_info": {
   "codemirror_mode": "text/x-c++src",
   "file_extension": ".cpp",
   "mimetype": "text/x-c++src",
   "name": "c++",
   "version": "14"
  }
 },
 "nbformat": 4,
 "nbformat_minor": 5
}
